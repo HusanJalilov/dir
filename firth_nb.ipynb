{
  "nbformat": 4,
  "nbformat_minor": 0,
  "metadata": {
    "colab": {
      "name": "firth_nb.ipynb",
      "provenance": [],
      "authorship_tag": "ABX9TyPtDxY+xtIyNNdeeGlvu19+",
      "include_colab_link": true
    },
    "kernelspec": {
      "name": "python3",
      "display_name": "Python 3"
    },
    "language_info": {
      "name": "python"
    },
    "accelerator": "GPU"
  },
  "cells": [
    {
      "cell_type": "markdown",
      "metadata": {
        "id": "view-in-github",
        "colab_type": "text"
      },
      "source": [
        "<a href=\"https://colab.research.google.com/github/HusanJalilov/dir/blob/main/firth_nb.ipynb\" target=\"_parent\"><img src=\"https://colab.research.google.com/assets/colab-badge.svg\" alt=\"Open In Colab\"/></a>"
      ]
    },
    {
      "cell_type": "markdown",
      "metadata": {
        "id": "VDq1hUbzp2p-"
      },
      "source": [
        "# Heading\n",
        "- Kiring\n",
        "-Chiqing\n"
      ]
    },
    {
      "cell_type": "code",
      "metadata": {
        "colab": {
          "base_uri": "https://localhost:8080/"
        },
        "id": "ScBcLQVJo5l6",
        "outputId": "ad184575-4fb1-46cf-efc8-5543364a4e17"
      },
      "source": [
        "print('husanning birinchi nb mi')"
      ],
      "execution_count": 2,
      "outputs": [
        {
          "output_type": "stream",
          "name": "stdout",
          "text": [
            "husanning birinchi nb mi\n"
          ]
        }
      ]
    },
    {
      "cell_type": "markdown",
      "metadata": {
        "id": "lZ5KDlUlqGUq"
      },
      "source": [
        ""
      ]
    },
    {
      "cell_type": "code",
      "metadata": {
        "id": "3NlG5M5IsqDZ"
      },
      "source": [
        "import tensorflow as tf"
      ],
      "execution_count": 4,
      "outputs": []
    },
    {
      "cell_type": "code",
      "metadata": {
        "colab": {
          "base_uri": "https://localhost:8080/",
          "height": 35
        },
        "id": "-pbpSaAasyVh",
        "outputId": "a4f26963-61e6-4ac6-98ea-33afd64bba64"
      },
      "source": [
        "tf.__version__"
      ],
      "execution_count": 5,
      "outputs": [
        {
          "output_type": "execute_result",
          "data": {
            "application/vnd.google.colaboratory.intrinsic+json": {
              "type": "string"
            },
            "text/plain": [
              "'2.7.0'"
            ]
          },
          "metadata": {},
          "execution_count": 5
        }
      ]
    },
    {
      "cell_type": "code",
      "metadata": {
        "colab": {
          "base_uri": "https://localhost:8080/"
        },
        "id": "OBd1APvvtsBa",
        "outputId": "754a15b0-80b2-4726-d1c9-0b2b64e1d3f7"
      },
      "source": [
        "import torch\n",
        "torch.cuda.is_available()"
      ],
      "execution_count": 2,
      "outputs": [
        {
          "output_type": "execute_result",
          "data": {
            "text/plain": [
              "True"
            ]
          },
          "metadata": {},
          "execution_count": 2
        }
      ]
    },
    {
      "cell_type": "code",
      "metadata": {
        "colab": {
          "base_uri": "https://localhost:8080/"
        },
        "id": "v60dLgStt48K",
        "outputId": "281c572a-e906-404f-aa4b-9d33573c435d"
      },
      "source": [
        "! ls\n"
      ],
      "execution_count": 3,
      "outputs": [
        {
          "output_type": "stream",
          "name": "stdout",
          "text": [
            "sample_data\n"
          ]
        }
      ]
    },
    {
      "cell_type": "code",
      "metadata": {
        "colab": {
          "base_uri": "https://localhost:8080/"
        },
        "id": "jiN0so4WuOIr",
        "outputId": "ea51fe01-4c78-4dfd-cb4a-a1e984ebe034"
      },
      "source": [
        "!LS"
      ],
      "execution_count": 1,
      "outputs": [
        {
          "output_type": "stream",
          "name": "stdout",
          "text": [
            "/bin/bash: LS: command not found\n"
          ]
        }
      ]
    },
    {
      "cell_type": "code",
      "metadata": {
        "colab": {
          "base_uri": "https://localhost:8080/",
          "height": 504
        },
        "id": "bIUFXU7Hjezs",
        "outputId": "5ec15c35-7ee6-4c4e-d9b1-24578dc0b5ba"
      },
      "source": [
        "import pandas as pd \n",
        "\n",
        "files=pd.read_excel('./data/VAKSINA OLGANLAR.xlsx')\n",
        "\n",
        "files.head()"
      ],
      "execution_count": 5,
      "outputs": [
        {
          "output_type": "execute_result",
          "data": {
            "text/html": [
              "<div>\n",
              "<style scoped>\n",
              "    .dataframe tbody tr th:only-of-type {\n",
              "        vertical-align: middle;\n",
              "    }\n",
              "\n",
              "    .dataframe tbody tr th {\n",
              "        vertical-align: top;\n",
              "    }\n",
              "\n",
              "    .dataframe thead th {\n",
              "        text-align: right;\n",
              "    }\n",
              "</style>\n",
              "<table border=\"1\" class=\"dataframe\">\n",
              "  <thead>\n",
              "    <tr style=\"text-align: right;\">\n",
              "      <th></th>\n",
              "      <th>Covid-19 ga qarshi emlangan talabalar to'g'risida \\nMA'LUMOT</th>\n",
              "      <th>Unnamed: 1</th>\n",
              "      <th>Unnamed: 2</th>\n",
              "      <th>Unnamed: 3</th>\n",
              "      <th>Unnamed: 4</th>\n",
              "      <th>Unnamed: 5</th>\n",
              "      <th>Unnamed: 6</th>\n",
              "      <th>Unnamed: 7</th>\n",
              "      <th>Unnamed: 8</th>\n",
              "      <th>Unnamed: 9</th>\n",
              "      <th>Unnamed: 10</th>\n",
              "    </tr>\n",
              "  </thead>\n",
              "  <tbody>\n",
              "    <tr>\n",
              "      <th>0</th>\n",
              "      <td>Amaliy matematika fakulteti</td>\n",
              "      <td>NaN</td>\n",
              "      <td>NaN</td>\n",
              "      <td>NaN</td>\n",
              "      <td>NaN</td>\n",
              "      <td>NaN</td>\n",
              "      <td>NaN</td>\n",
              "      <td>NaN</td>\n",
              "      <td>NaN</td>\n",
              "      <td>NaN</td>\n",
              "      <td>NaN</td>\n",
              "    </tr>\n",
              "    <tr>\n",
              "      <th>1</th>\n",
              "      <td>№</td>\n",
              "      <td>Familiyasi, ismi va otasining ismi</td>\n",
              "      <td>Tugʻilgan\\n kuni oyi va yili</td>\n",
              "      <td>Pasport seriyasi va raqami*</td>\n",
              "      <td>Guruhi</td>\n",
              "      <td>Covid-19 ga qarshi emlanganligi</td>\n",
              "      <td>NaN</td>\n",
              "      <td>NaN</td>\n",
              "      <td>NaN</td>\n",
              "      <td>NaN</td>\n",
              "      <td>IZOH</td>\n",
              "    </tr>\n",
              "    <tr>\n",
              "      <th>2</th>\n",
              "      <td>NaN</td>\n",
              "      <td>NaN</td>\n",
              "      <td>NaN</td>\n",
              "      <td>NaN</td>\n",
              "      <td>NaN</td>\n",
              "      <td>1</td>\n",
              "      <td>2</td>\n",
              "      <td>3</td>\n",
              "      <td>Sertifikatga ega\\nBor/yo'q</td>\n",
              "      <td>Sertifikat bo'lsa raqami</td>\n",
              "      <td>NaN</td>\n",
              "    </tr>\n",
              "    <tr>\n",
              "      <th>3</th>\n",
              "      <td>1</td>\n",
              "      <td>Abdiyev Husniddin Xusan o'g'li</td>\n",
              "      <td>20.02.2000</td>\n",
              "      <td>AB 6941219</td>\n",
              "      <td>103-19</td>\n",
              "      <td>-</td>\n",
              "      <td>-</td>\n",
              "      <td>-</td>\n",
              "      <td>yo'q</td>\n",
              "      <td>NaN</td>\n",
              "      <td>sababsiz</td>\n",
              "    </tr>\n",
              "    <tr>\n",
              "      <th>4</th>\n",
              "      <td>2</td>\n",
              "      <td>Abdug'aniyev Axror Shavkat o'g'li</td>\n",
              "      <td>19.01.1999</td>\n",
              "      <td>AB 511 64 26</td>\n",
              "      <td>103-19</td>\n",
              "      <td>+</td>\n",
              "      <td>+</td>\n",
              "      <td>+</td>\n",
              "      <td>bor</td>\n",
              "      <td>4646005</td>\n",
              "      <td>sababsiz</td>\n",
              "    </tr>\n",
              "  </tbody>\n",
              "</table>\n",
              "</div>"
            ],
            "text/plain": [
              "  Covid-19 ga qarshi emlangan talabalar to'g'risida \\nMA'LUMOT  ... Unnamed: 10\n",
              "0                        Amaliy matematika fakulteti            ...         NaN\n",
              "1                                                  №            ...        IZOH\n",
              "2                                                NaN            ...         NaN\n",
              "3                                                  1            ...    sababsiz\n",
              "4                                                  2            ...    sababsiz\n",
              "\n",
              "[5 rows x 11 columns]"
            ]
          },
          "metadata": {},
          "execution_count": 5
        }
      ]
    },
    {
      "cell_type": "code",
      "metadata": {
        "id": "Ja514egijuzj"
      },
      "source": [
        ""
      ],
      "execution_count": null,
      "outputs": []
    }
  ]
}